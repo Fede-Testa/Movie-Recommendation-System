{
 "cells": [
  {
   "cell_type": "markdown",
   "metadata": {},
   "source": [
    "# What should I watch next?"
   ]
  },
  {
   "cell_type": "markdown",
   "metadata": {},
   "source": [
    "Implementation of a movie recommendation system trained on the dataset [MovieLens25m](https://grouplens.org/datasets/movielens/25m/), which contains 25 million ratings applied to 62,000 movies by 162,000 users. The dataset also includes tag genome data with 15 million relevance scores across 1,129 tags, which we will not use in this project."
   ]
  },
  {
   "cell_type": "markdown",
   "metadata": {},
   "source": [
    "## Packages"
   ]
  },
  {
   "cell_type": "code",
   "execution_count": 91,
   "metadata": {},
   "outputs": [],
   "source": [
    "import numpy as np\n",
    "import pandas as pd\n",
    "import matplotlib.pyplot as plt\n",
    "import seaborn as sns"
   ]
  },
  {
   "cell_type": "markdown",
   "metadata": {},
   "source": [
    "## Exploratory Data Analysis and Preprocessing"
   ]
  },
  {
   "cell_type": "markdown",
   "metadata": {},
   "source": [
    "In this section we want to get a feeling of the data and check if any data cleaning or preprocessing is required.\n",
    "First, we load the data:"
   ]
  },
  {
   "cell_type": "code",
   "execution_count": 92,
   "metadata": {},
   "outputs": [],
   "source": [
    "df_movies = pd.read_csv('data/movies.csv')\n",
    "df_ratings = pd.read_csv('data/ratings.csv')"
   ]
  },
  {
   "cell_type": "code",
   "execution_count": 93,
   "metadata": {},
   "outputs": [
    {
     "data": {
      "text/html": [
       "<div>\n",
       "<style scoped>\n",
       "    .dataframe tbody tr th:only-of-type {\n",
       "        vertical-align: middle;\n",
       "    }\n",
       "\n",
       "    .dataframe tbody tr th {\n",
       "        vertical-align: top;\n",
       "    }\n",
       "\n",
       "    .dataframe thead th {\n",
       "        text-align: right;\n",
       "    }\n",
       "</style>\n",
       "<table border=\"1\" class=\"dataframe\">\n",
       "  <thead>\n",
       "    <tr style=\"text-align: right;\">\n",
       "      <th></th>\n",
       "      <th>movieId</th>\n",
       "      <th>title</th>\n",
       "      <th>genres</th>\n",
       "    </tr>\n",
       "  </thead>\n",
       "  <tbody>\n",
       "    <tr>\n",
       "      <th>0</th>\n",
       "      <td>1</td>\n",
       "      <td>Toy Story (1995)</td>\n",
       "      <td>Adventure|Animation|Children|Comedy|Fantasy</td>\n",
       "    </tr>\n",
       "    <tr>\n",
       "      <th>1</th>\n",
       "      <td>2</td>\n",
       "      <td>Jumanji (1995)</td>\n",
       "      <td>Adventure|Children|Fantasy</td>\n",
       "    </tr>\n",
       "    <tr>\n",
       "      <th>2</th>\n",
       "      <td>3</td>\n",
       "      <td>Grumpier Old Men (1995)</td>\n",
       "      <td>Comedy|Romance</td>\n",
       "    </tr>\n",
       "    <tr>\n",
       "      <th>3</th>\n",
       "      <td>4</td>\n",
       "      <td>Waiting to Exhale (1995)</td>\n",
       "      <td>Comedy|Drama|Romance</td>\n",
       "    </tr>\n",
       "    <tr>\n",
       "      <th>4</th>\n",
       "      <td>5</td>\n",
       "      <td>Father of the Bride Part II (1995)</td>\n",
       "      <td>Comedy</td>\n",
       "    </tr>\n",
       "  </tbody>\n",
       "</table>\n",
       "</div>"
      ],
      "text/plain": [
       "   movieId                               title  \\\n",
       "0        1                    Toy Story (1995)   \n",
       "1        2                      Jumanji (1995)   \n",
       "2        3             Grumpier Old Men (1995)   \n",
       "3        4            Waiting to Exhale (1995)   \n",
       "4        5  Father of the Bride Part II (1995)   \n",
       "\n",
       "                                        genres  \n",
       "0  Adventure|Animation|Children|Comedy|Fantasy  \n",
       "1                   Adventure|Children|Fantasy  \n",
       "2                               Comedy|Romance  \n",
       "3                         Comedy|Drama|Romance  \n",
       "4                                       Comedy  "
      ]
     },
     "execution_count": 93,
     "metadata": {},
     "output_type": "execute_result"
    }
   ],
   "source": [
    "df_movies.head()"
   ]
  },
  {
   "cell_type": "code",
   "execution_count": 94,
   "metadata": {},
   "outputs": [
    {
     "data": {
      "text/html": [
       "<div>\n",
       "<style scoped>\n",
       "    .dataframe tbody tr th:only-of-type {\n",
       "        vertical-align: middle;\n",
       "    }\n",
       "\n",
       "    .dataframe tbody tr th {\n",
       "        vertical-align: top;\n",
       "    }\n",
       "\n",
       "    .dataframe thead th {\n",
       "        text-align: right;\n",
       "    }\n",
       "</style>\n",
       "<table border=\"1\" class=\"dataframe\">\n",
       "  <thead>\n",
       "    <tr style=\"text-align: right;\">\n",
       "      <th></th>\n",
       "      <th>userId</th>\n",
       "      <th>movieId</th>\n",
       "      <th>rating</th>\n",
       "      <th>timestamp</th>\n",
       "    </tr>\n",
       "  </thead>\n",
       "  <tbody>\n",
       "    <tr>\n",
       "      <th>0</th>\n",
       "      <td>1</td>\n",
       "      <td>1</td>\n",
       "      <td>4.0</td>\n",
       "      <td>964982703</td>\n",
       "    </tr>\n",
       "    <tr>\n",
       "      <th>1</th>\n",
       "      <td>1</td>\n",
       "      <td>3</td>\n",
       "      <td>4.0</td>\n",
       "      <td>964981247</td>\n",
       "    </tr>\n",
       "    <tr>\n",
       "      <th>2</th>\n",
       "      <td>1</td>\n",
       "      <td>6</td>\n",
       "      <td>4.0</td>\n",
       "      <td>964982224</td>\n",
       "    </tr>\n",
       "    <tr>\n",
       "      <th>3</th>\n",
       "      <td>1</td>\n",
       "      <td>47</td>\n",
       "      <td>5.0</td>\n",
       "      <td>964983815</td>\n",
       "    </tr>\n",
       "    <tr>\n",
       "      <th>4</th>\n",
       "      <td>1</td>\n",
       "      <td>50</td>\n",
       "      <td>5.0</td>\n",
       "      <td>964982931</td>\n",
       "    </tr>\n",
       "  </tbody>\n",
       "</table>\n",
       "</div>"
      ],
      "text/plain": [
       "   userId  movieId  rating  timestamp\n",
       "0       1        1     4.0  964982703\n",
       "1       1        3     4.0  964981247\n",
       "2       1        6     4.0  964982224\n",
       "3       1       47     5.0  964983815\n",
       "4       1       50     5.0  964982931"
      ]
     },
     "execution_count": 94,
     "metadata": {},
     "output_type": "execute_result"
    }
   ],
   "source": [
    "df_ratings.head()"
   ]
  },
  {
   "cell_type": "markdown",
   "metadata": {},
   "source": [
    "Let us check if any missing value is present. "
   ]
  },
  {
   "cell_type": "code",
   "execution_count": 95,
   "metadata": {},
   "outputs": [
    {
     "data": {
      "text/plain": [
       "userId       0\n",
       "movieId      0\n",
       "rating       0\n",
       "timestamp    0\n",
       "dtype: int64"
      ]
     },
     "execution_count": 95,
     "metadata": {},
     "output_type": "execute_result"
    }
   ],
   "source": [
    "df_ratings.isnull().sum()"
   ]
  },
  {
   "cell_type": "markdown",
   "metadata": {},
   "source": [
    "No missing values found. We also check for the movie dataset, albeit not essential:"
   ]
  },
  {
   "cell_type": "code",
   "execution_count": 96,
   "metadata": {},
   "outputs": [
    {
     "data": {
      "text/plain": [
       "movieId    0\n",
       "title      0\n",
       "genres     0\n",
       "dtype: int64"
      ]
     },
     "execution_count": 96,
     "metadata": {},
     "output_type": "execute_result"
    }
   ],
   "source": [
    "df_movies.isnull().sum()"
   ]
  },
  {
   "cell_type": "markdown",
   "metadata": {},
   "source": [
    "Again, no missing values. "
   ]
  },
  {
   "cell_type": "markdown",
   "metadata": {},
   "source": [
    "Let us check that no duplicate ratings have been added by mistake:"
   ]
  },
  {
   "cell_type": "code",
   "execution_count": 97,
   "metadata": {},
   "outputs": [
    {
     "data": {
      "text/plain": [
       "0"
      ]
     },
     "execution_count": 97,
     "metadata": {},
     "output_type": "execute_result"
    }
   ],
   "source": [
    "df_movies.duplicated().sum()"
   ]
  },
  {
   "cell_type": "markdown",
   "metadata": {},
   "source": [
    "We can proceed with the analysis."
   ]
  },
  {
   "cell_type": "markdown",
   "metadata": {},
   "source": [
    "We recall that ratings are essentially an (ordinal) categorical variable with the following distribution:"
   ]
  },
  {
   "cell_type": "code",
   "execution_count": 98,
   "metadata": {},
   "outputs": [
    {
     "data": {
      "image/png": "[encoded data removed]",
      "text/plain": [
       "<Figure size 1000x600 with 1 Axes>"
      ]
     },
     "metadata": {},
     "output_type": "display_data"
    }
   ],
   "source": [
    "plt.figure(figsize=(10, 6))\n",
    "df_ratings['rating'].value_counts().sort_index().plot(kind='bar')\n",
    "plt.xlabel('Rating')\n",
    "plt.ylabel('Count')\n",
    "plt.title('Rating Distribution')\n",
    "plt.show()"
   ]
  },
  {
   "cell_type": "markdown",
   "metadata": {},
   "source": [
    "For the sake of the implementation of ALS no particular data cleaning procedure is needed: we will not need to handle genres (which would be necessary instead if we implemented a content based recommender) and we will not need metadata on movies and ratings. \n",
    "\n",
    "We will however need some of this information for building the \"small\" example we will use for visualizing the algorithm, as we will clarify later. Hence, we clean the genre column in the movie dataset:"
   ]
  },
  {
   "cell_type": "code",
   "execution_count": 99,
   "metadata": {},
   "outputs": [
    {
     "data": {
      "text/html": [
       "<div>\n",
       "<style scoped>\n",
       "    .dataframe tbody tr th:only-of-type {\n",
       "        vertical-align: middle;\n",
       "    }\n",
       "\n",
       "    .dataframe tbody tr th {\n",
       "        vertical-align: top;\n",
       "    }\n",
       "\n",
       "    .dataframe thead th {\n",
       "        text-align: right;\n",
       "    }\n",
       "</style>\n",
       "<table border=\"1\" class=\"dataframe\">\n",
       "  <thead>\n",
       "    <tr style=\"text-align: right;\">\n",
       "      <th></th>\n",
       "      <th>movieId</th>\n",
       "      <th>title</th>\n",
       "      <th>(no genres listed)</th>\n",
       "      <th>Action</th>\n",
       "      <th>Adventure</th>\n",
       "      <th>Animation</th>\n",
       "      <th>Children</th>\n",
       "      <th>Comedy</th>\n",
       "      <th>Crime</th>\n",
       "      <th>Documentary</th>\n",
       "      <th>...</th>\n",
       "      <th>Film-Noir</th>\n",
       "      <th>Horror</th>\n",
       "      <th>IMAX</th>\n",
       "      <th>Musical</th>\n",
       "      <th>Mystery</th>\n",
       "      <th>Romance</th>\n",
       "      <th>Sci-Fi</th>\n",
       "      <th>Thriller</th>\n",
       "      <th>War</th>\n",
       "      <th>Western</th>\n",
       "    </tr>\n",
       "  </thead>\n",
       "  <tbody>\n",
       "    <tr>\n",
       "      <th>0</th>\n",
       "      <td>1</td>\n",
       "      <td>Toy Story (1995)</td>\n",
       "      <td>0</td>\n",
       "      <td>0</td>\n",
       "      <td>1</td>\n",
       "      <td>1</td>\n",
       "      <td>1</td>\n",
       "      <td>1</td>\n",
       "      <td>0</td>\n",
       "      <td>0</td>\n",
       "      <td>...</td>\n",
       "      <td>0</td>\n",
       "      <td>0</td>\n",
       "      <td>0</td>\n",
       "      <td>0</td>\n",
       "      <td>0</td>\n",
       "      <td>0</td>\n",
       "      <td>0</td>\n",
       "      <td>0</td>\n",
       "      <td>0</td>\n",
       "      <td>0</td>\n",
       "    </tr>\n",
       "    <tr>\n",
       "      <th>1</th>\n",
       "      <td>2</td>\n",
       "      <td>Jumanji (1995)</td>\n",
       "      <td>0</td>\n",
       "      <td>0</td>\n",
       "      <td>1</td>\n",
       "      <td>0</td>\n",
       "      <td>1</td>\n",
       "      <td>0</td>\n",
       "      <td>0</td>\n",
       "      <td>0</td>\n",
       "      <td>...</td>\n",
       "      <td>0</td>\n",
       "      <td>0</td>\n",
       "      <td>0</td>\n",
       "      <td>0</td>\n",
       "      <td>0</td>\n",
       "      <td>0</td>\n",
       "      <td>0</td>\n",
       "      <td>0</td>\n",
       "      <td>0</td>\n",
       "      <td>0</td>\n",
       "    </tr>\n",
       "    <tr>\n",
       "      <th>2</th>\n",
       "      <td>3</td>\n",
       "      <td>Grumpier Old Men (1995)</td>\n",
       "      <td>0</td>\n",
       "      <td>0</td>\n",
       "      <td>0</td>\n",
       "      <td>0</td>\n",
       "      <td>0</td>\n",
       "      <td>1</td>\n",
       "      <td>0</td>\n",
       "      <td>0</td>\n",
       "      <td>...</td>\n",
       "      <td>0</td>\n",
       "      <td>0</td>\n",
       "      <td>0</td>\n",
       "      <td>0</td>\n",
       "      <td>0</td>\n",
       "      <td>1</td>\n",
       "      <td>0</td>\n",
       "      <td>0</td>\n",
       "      <td>0</td>\n",
       "      <td>0</td>\n",
       "    </tr>\n",
       "    <tr>\n",
       "      <th>3</th>\n",
       "      <td>4</td>\n",
       "      <td>Waiting to Exhale (1995)</td>\n",
       "      <td>0</td>\n",
       "      <td>0</td>\n",
       "      <td>0</td>\n",
       "      <td>0</td>\n",
       "      <td>0</td>\n",
       "      <td>1</td>\n",
       "      <td>0</td>\n",
       "      <td>0</td>\n",
       "      <td>...</td>\n",
       "      <td>0</td>\n",
       "      <td>0</td>\n",
       "      <td>0</td>\n",
       "      <td>0</td>\n",
       "      <td>0</td>\n",
       "      <td>1</td>\n",
       "      <td>0</td>\n",
       "      <td>0</td>\n",
       "      <td>0</td>\n",
       "      <td>0</td>\n",
       "    </tr>\n",
       "    <tr>\n",
       "      <th>4</th>\n",
       "      <td>5</td>\n",
       "      <td>Father of the Bride Part II (1995)</td>\n",
       "      <td>0</td>\n",
       "      <td>0</td>\n",
       "      <td>0</td>\n",
       "      <td>0</td>\n",
       "      <td>0</td>\n",
       "      <td>1</td>\n",
       "      <td>0</td>\n",
       "      <td>0</td>\n",
       "      <td>...</td>\n",
       "      <td>0</td>\n",
       "      <td>0</td>\n",
       "      <td>0</td>\n",
       "      <td>0</td>\n",
       "      <td>0</td>\n",
       "      <td>0</td>\n",
       "      <td>0</td>\n",
       "      <td>0</td>\n",
       "      <td>0</td>\n",
       "      <td>0</td>\n",
       "    </tr>\n",
       "  </tbody>\n",
       "</table>\n",
       "<p>5 rows × 22 columns</p>\n",
       "</div>"
      ],
      "text/plain": [
       "   movieId                               title  (no genres listed)  Action  \\\n",
       "0        1                    Toy Story (1995)                   0       0   \n",
       "1        2                      Jumanji (1995)                   0       0   \n",
       "2        3             Grumpier Old Men (1995)                   0       0   \n",
       "3        4            Waiting to Exhale (1995)                   0       0   \n",
       "4        5  Father of the Bride Part II (1995)                   0       0   \n",
       "\n",
       "   Adventure  Animation  Children  Comedy  Crime  Documentary  ...  Film-Noir  \\\n",
       "0          1          1         1       1      0            0  ...          0   \n",
       "1          1          0         1       0      0            0  ...          0   \n",
       "2          0          0         0       1      0            0  ...          0   \n",
       "3          0          0         0       1      0            0  ...          0   \n",
       "4          0          0         0       1      0            0  ...          0   \n",
       "\n",
       "   Horror  IMAX  Musical  Mystery  Romance  Sci-Fi  Thriller  War  Western  \n",
       "0       0     0        0        0        0       0         0    0        0  \n",
       "1       0     0        0        0        0       0         0    0        0  \n",
       "2       0     0        0        0        1       0         0    0        0  \n",
       "3       0     0        0        0        1       0         0    0        0  \n",
       "4       0     0        0        0        0       0         0    0        0  \n",
       "\n",
       "[5 rows x 22 columns]"
      ]
     },
     "execution_count": 99,
     "metadata": {},
     "output_type": "execute_result"
    }
   ],
   "source": [
    "df_movies['genres'] = df_movies['genres'].str.split('|')\n",
    "df_movies_ohe = df_movies.join(df_movies.pop('genres').str.join('|').str.get_dummies())\n",
    "df_movies_ohe.head()"
   ]
  },
  {
   "cell_type": "markdown",
   "metadata": {},
   "source": [
    "Let's have a look at the number of users and movies."
   ]
  },
  {
   "cell_type": "code",
   "execution_count": 100,
   "metadata": {},
   "outputs": [
    {
     "name": "stdout",
     "output_type": "stream",
     "text": [
      "Number of movies: 9742\n",
      "Number of users: 610\n"
     ]
    }
   ],
   "source": [
    "n_movies = df_movies_ohe.shape[0]\n",
    "n_users = df_ratings['userId'].nunique()\n",
    "print(f'Number of movies: {n_movies}')\n",
    "print(f'Number of users: {n_users}')"
   ]
  },
  {
   "cell_type": "markdown",
   "metadata": {},
   "source": [
    "Of course, it wouldn't make sense to get rid of certain users before applying our algorithms: we want to be able to make recommendations for all our users, and all of them have a non-negligible minimum amount of ratings anyway:"
   ]
  },
  {
   "cell_type": "code",
   "execution_count": 101,
   "metadata": {},
   "outputs": [
    {
     "data": {
      "text/plain": [
       "count     610.000000\n",
       "mean      165.304918\n",
       "std       269.480584\n",
       "min        20.000000\n",
       "25%        35.000000\n",
       "50%        70.500000\n",
       "75%       168.000000\n",
       "max      2698.000000\n",
       "Name: count, dtype: float64"
      ]
     },
     "execution_count": 101,
     "metadata": {},
     "output_type": "execute_result"
    }
   ],
   "source": [
    "user_freq = df_ratings['userId'].value_counts()\n",
    "user_freq = user_freq.sort_values(ascending=False)\n",
    "user_freq.describe()"
   ]
  },
  {
   "cell_type": "markdown",
   "metadata": {},
   "source": [
    "On the contrary, we may look into the distribution of the ratings by movie:"
   ]
  },
  {
   "cell_type": "code",
   "execution_count": 102,
   "metadata": {},
   "outputs": [
    {
     "data": {
      "text/plain": [
       "count    9724.000000\n",
       "mean       10.369807\n",
       "std        22.401005\n",
       "min         1.000000\n",
       "25%         1.000000\n",
       "50%         3.000000\n",
       "75%         9.000000\n",
       "max       329.000000\n",
       "Name: count, dtype: float64"
      ]
     },
     "execution_count": 102,
     "metadata": {},
     "output_type": "execute_result"
    }
   ],
   "source": [
    "movie_freq = df_ratings['movieId'].value_counts()\n",
    "movie_freq = movie_freq.sort_values(ascending=False)\n",
    "movie_freq.describe()"
   ]
  },
  {
   "cell_type": "markdown",
   "metadata": {},
   "source": [
    "Notice the median number of ratings per movie: 3. \n",
    "It is true that we aim at making recommendations that do not suffer from a popularity bias (i.e. we want to avoid to recommend only popular movies to everyone), but to make things more manageable and provide meaningful recommendations we drop all movies with less than 3 reviews. After all, with thousands of possible movies to choose from we wouldn't want to rely on movies with only a handful of reviews. Also, popularity bias is a common problem of neighbourhood methods, but by design matrix factorization algorithms do not tend to suffer from it.\n",
    "\n",
    "This choice clearly affects the likelihood of recommending movies that have been only recently added to our library, but we believe this instance should rather be handled separately with a recommender for a \"what's new?\" or a \"trending now\" section of our recommendation website or streaming service. For movies that have been for a long time on the platform but only have a handful reviews, we can safely assume that they are \"niche\" items, which are likely to be specifally searched for by the few interested users."
   ]
  },
  {
   "cell_type": "code",
   "execution_count": 103,
   "metadata": {},
   "outputs": [
    {
     "data": {
      "text/plain": [
       "100836"
      ]
     },
     "execution_count": 103,
     "metadata": {},
     "output_type": "execute_result"
    }
   ],
   "source": [
    "df_ratings.shape[0]"
   ]
  },
  {
   "cell_type": "code",
   "execution_count": 104,
   "metadata": {},
   "outputs": [
    {
     "data": {
      "text/plain": [
       "88364"
      ]
     },
     "execution_count": 104,
     "metadata": {},
     "output_type": "execute_result"
    }
   ],
   "source": [
    "min_movie_ratings = 6\n",
    "filter_movies = movie_freq[movie_freq >= min_movie_ratings].index\n",
    "df_ratings = df_ratings[df_ratings['movieId'].isin(filter_movies)]\n",
    "df_ratings.shape[0]"
   ]
  },
  {
   "cell_type": "markdown",
   "metadata": {},
   "source": [
    "It's hardly noticeable in terms of total number of ratings of course, but it significanly lowers the movies dimension (making the user-item matrix belong to a much smaller space). To explicitly refer to the notation of the report of the project:\n",
    "$$\n",
    "R\\in\\mathbb{R}^{n\\times m} \\longrightarrow R\\in\\mathbb{R}^{n\\times m'} \\text{ where } m'\\approx\\frac{m}{2}\n",
    "$$"
   ]
  },
  {
   "cell_type": "markdown",
   "metadata": {},
   "source": [
    "For the user-item matrix, we can also get rid of the timestamp column (which indicates the time at which a rating was given)."
   ]
  },
  {
   "cell_type": "code",
   "execution_count": 105,
   "metadata": {},
   "outputs": [],
   "source": [
    "df_ratings = df_ratings.drop('timestamp', axis=1)"
   ]
  },
  {
   "cell_type": "markdown",
   "metadata": {},
   "source": [
    "Let us now create the user-item matrix by pivoting the current dataframe of ratings."
   ]
  },
  {
   "cell_type": "code",
   "execution_count": 106,
   "metadata": {},
   "outputs": [
    {
     "data": {
      "text/html": [
       "<div>\n",
       "<style scoped>\n",
       "    .dataframe tbody tr th:only-of-type {\n",
       "        vertical-align: middle;\n",
       "    }\n",
       "\n",
       "    .dataframe tbody tr th {\n",
       "        vertical-align: top;\n",
       "    }\n",
       "\n",
       "    .dataframe thead th {\n",
       "        text-align: right;\n",
       "    }\n",
       "</style>\n",
       "<table border=\"1\" class=\"dataframe\">\n",
       "  <thead>\n",
       "    <tr style=\"text-align: right;\">\n",
       "      <th>movieId</th>\n",
       "      <th>1</th>\n",
       "      <th>2</th>\n",
       "      <th>3</th>\n",
       "      <th>4</th>\n",
       "      <th>5</th>\n",
       "      <th>6</th>\n",
       "      <th>7</th>\n",
       "      <th>8</th>\n",
       "      <th>9</th>\n",
       "      <th>10</th>\n",
       "      <th>...</th>\n",
       "      <th>174055</th>\n",
       "      <th>175303</th>\n",
       "      <th>176101</th>\n",
       "      <th>176371</th>\n",
       "      <th>177593</th>\n",
       "      <th>177765</th>\n",
       "      <th>179401</th>\n",
       "      <th>179819</th>\n",
       "      <th>180031</th>\n",
       "      <th>187593</th>\n",
       "    </tr>\n",
       "    <tr>\n",
       "      <th>userId</th>\n",
       "      <th></th>\n",
       "      <th></th>\n",
       "      <th></th>\n",
       "      <th></th>\n",
       "      <th></th>\n",
       "      <th></th>\n",
       "      <th></th>\n",
       "      <th></th>\n",
       "      <th></th>\n",
       "      <th></th>\n",
       "      <th></th>\n",
       "      <th></th>\n",
       "      <th></th>\n",
       "      <th></th>\n",
       "      <th></th>\n",
       "      <th></th>\n",
       "      <th></th>\n",
       "      <th></th>\n",
       "      <th></th>\n",
       "      <th></th>\n",
       "      <th></th>\n",
       "    </tr>\n",
       "  </thead>\n",
       "  <tbody>\n",
       "    <tr>\n",
       "      <th>1</th>\n",
       "      <td>4.0</td>\n",
       "      <td>0.0</td>\n",
       "      <td>4.0</td>\n",
       "      <td>0.0</td>\n",
       "      <td>0.0</td>\n",
       "      <td>4.0</td>\n",
       "      <td>0.0</td>\n",
       "      <td>0.0</td>\n",
       "      <td>0.0</td>\n",
       "      <td>0.0</td>\n",
       "      <td>...</td>\n",
       "      <td>0.0</td>\n",
       "      <td>0.0</td>\n",
       "      <td>0.0</td>\n",
       "      <td>0.0</td>\n",
       "      <td>0.0</td>\n",
       "      <td>0.0</td>\n",
       "      <td>0.0</td>\n",
       "      <td>0.0</td>\n",
       "      <td>0.0</td>\n",
       "      <td>0.0</td>\n",
       "    </tr>\n",
       "    <tr>\n",
       "      <th>2</th>\n",
       "      <td>0.0</td>\n",
       "      <td>0.0</td>\n",
       "      <td>0.0</td>\n",
       "      <td>0.0</td>\n",
       "      <td>0.0</td>\n",
       "      <td>0.0</td>\n",
       "      <td>0.0</td>\n",
       "      <td>0.0</td>\n",
       "      <td>0.0</td>\n",
       "      <td>0.0</td>\n",
       "      <td>...</td>\n",
       "      <td>0.0</td>\n",
       "      <td>0.0</td>\n",
       "      <td>0.0</td>\n",
       "      <td>0.0</td>\n",
       "      <td>0.0</td>\n",
       "      <td>0.0</td>\n",
       "      <td>0.0</td>\n",
       "      <td>0.0</td>\n",
       "      <td>0.0</td>\n",
       "      <td>0.0</td>\n",
       "    </tr>\n",
       "    <tr>\n",
       "      <th>3</th>\n",
       "      <td>0.0</td>\n",
       "      <td>0.0</td>\n",
       "      <td>0.0</td>\n",
       "      <td>0.0</td>\n",
       "      <td>0.0</td>\n",
       "      <td>0.0</td>\n",
       "      <td>0.0</td>\n",
       "      <td>0.0</td>\n",
       "      <td>0.0</td>\n",
       "      <td>0.0</td>\n",
       "      <td>...</td>\n",
       "      <td>0.0</td>\n",
       "      <td>0.0</td>\n",
       "      <td>0.0</td>\n",
       "      <td>0.0</td>\n",
       "      <td>0.0</td>\n",
       "      <td>0.0</td>\n",
       "      <td>0.0</td>\n",
       "      <td>0.0</td>\n",
       "      <td>0.0</td>\n",
       "      <td>0.0</td>\n",
       "    </tr>\n",
       "    <tr>\n",
       "      <th>4</th>\n",
       "      <td>0.0</td>\n",
       "      <td>0.0</td>\n",
       "      <td>0.0</td>\n",
       "      <td>0.0</td>\n",
       "      <td>0.0</td>\n",
       "      <td>0.0</td>\n",
       "      <td>0.0</td>\n",
       "      <td>0.0</td>\n",
       "      <td>0.0</td>\n",
       "      <td>0.0</td>\n",
       "      <td>...</td>\n",
       "      <td>0.0</td>\n",
       "      <td>0.0</td>\n",
       "      <td>0.0</td>\n",
       "      <td>0.0</td>\n",
       "      <td>0.0</td>\n",
       "      <td>0.0</td>\n",
       "      <td>0.0</td>\n",
       "      <td>0.0</td>\n",
       "      <td>0.0</td>\n",
       "      <td>0.0</td>\n",
       "    </tr>\n",
       "    <tr>\n",
       "      <th>5</th>\n",
       "      <td>4.0</td>\n",
       "      <td>0.0</td>\n",
       "      <td>0.0</td>\n",
       "      <td>0.0</td>\n",
       "      <td>0.0</td>\n",
       "      <td>0.0</td>\n",
       "      <td>0.0</td>\n",
       "      <td>0.0</td>\n",
       "      <td>0.0</td>\n",
       "      <td>0.0</td>\n",
       "      <td>...</td>\n",
       "      <td>0.0</td>\n",
       "      <td>0.0</td>\n",
       "      <td>0.0</td>\n",
       "      <td>0.0</td>\n",
       "      <td>0.0</td>\n",
       "      <td>0.0</td>\n",
       "      <td>0.0</td>\n",
       "      <td>0.0</td>\n",
       "      <td>0.0</td>\n",
       "      <td>0.0</td>\n",
       "    </tr>\n",
       "  </tbody>\n",
       "</table>\n",
       "<p>5 rows × 3268 columns</p>\n",
       "</div>"
      ],
      "text/plain": [
       "movieId  1       2       3       4       5       6       7       8       \\\n",
       "userId                                                                    \n",
       "1           4.0     0.0     4.0     0.0     0.0     4.0     0.0     0.0   \n",
       "2           0.0     0.0     0.0     0.0     0.0     0.0     0.0     0.0   \n",
       "3           0.0     0.0     0.0     0.0     0.0     0.0     0.0     0.0   \n",
       "4           0.0     0.0     0.0     0.0     0.0     0.0     0.0     0.0   \n",
       "5           4.0     0.0     0.0     0.0     0.0     0.0     0.0     0.0   \n",
       "\n",
       "movieId  9       10      ...  174055  175303  176101  176371  177593  177765  \\\n",
       "userId                   ...                                                   \n",
       "1           0.0     0.0  ...     0.0     0.0     0.0     0.0     0.0     0.0   \n",
       "2           0.0     0.0  ...     0.0     0.0     0.0     0.0     0.0     0.0   \n",
       "3           0.0     0.0  ...     0.0     0.0     0.0     0.0     0.0     0.0   \n",
       "4           0.0     0.0  ...     0.0     0.0     0.0     0.0     0.0     0.0   \n",
       "5           0.0     0.0  ...     0.0     0.0     0.0     0.0     0.0     0.0   \n",
       "\n",
       "movieId  179401  179819  180031  187593  \n",
       "userId                                   \n",
       "1           0.0     0.0     0.0     0.0  \n",
       "2           0.0     0.0     0.0     0.0  \n",
       "3           0.0     0.0     0.0     0.0  \n",
       "4           0.0     0.0     0.0     0.0  \n",
       "5           0.0     0.0     0.0     0.0  \n",
       "\n",
       "[5 rows x 3268 columns]"
      ]
     },
     "execution_count": 106,
     "metadata": {},
     "output_type": "execute_result"
    }
   ],
   "source": [
    "user_item_matrix = df_ratings.pivot(index='userId', columns='movieId', values='rating', )\n",
    "user_item_matrix.fillna(0, inplace=True)\n",
    "user_item_matrix.head()"
   ]
  },
  {
   "cell_type": "markdown",
   "metadata": {},
   "source": [
    "Despite the fact that the sparsity effect has been mitigated by our filtering on \"niche\" movies, it is indeed a sparse matrix:"
   ]
  },
  {
   "cell_type": "code",
   "execution_count": 107,
   "metadata": {},
   "outputs": [
    {
     "name": "stdout",
     "output_type": "stream",
     "text": [
      "Proportion of matrix filled: 0.04432650440435821\n"
     ]
    }
   ],
   "source": [
    "p = df_ratings.shape[0] / (user_item_matrix.shape[0] * user_item_matrix.shape[1])\n",
    "print(\"Proportion of matrix filled:\", p)"
   ]
  },
  {
   "cell_type": "markdown",
   "metadata": {},
   "source": [
    "No we plot the drastic decrease in the magnitude of the singular values, supporting our case for a latent space of lower dimension that can grasp and explain most of the variability of the data."
   ]
  },
  {
   "cell_type": "code",
   "execution_count": 108,
   "metadata": {},
   "outputs": [
    {
     "data": {
      "image/png": "[encoded data removed]",
      "text/plain": [
       "<Figure size 1000x600 with 1 Axes>"
      ]
     },
     "metadata": {},
     "output_type": "display_data"
    }
   ],
   "source": [
    "# plot on the magnitude of the singular values of the user-item matrix compared to their number (eg.: magnitude of the first singular value, magnitude of the second singular value, etc.)\n",
    "\n",
    "U, s, Vt = np.linalg.svd(user_item_matrix, full_matrices=False)\n",
    "\n",
    "plt.figure(figsize=(10, 6))\n",
    "plt.plot(s)\n",
    "plt.xlabel('Singular Value Index')\n",
    "plt.ylabel('Singular Value Magnitude')\n",
    "plt.title('Singular Value Spectrum')\n",
    "plt.show()"
   ]
  },
  {
   "cell_type": "markdown",
   "metadata": {},
   "source": [
    "# A \"Toy\" Example"
   ]
  },
  {
   "cell_type": "markdown",
   "metadata": {},
   "source": [
    "We have discussed in the report that the latent factors built by ALS essentially represent more or less interpretable and complicated movie features and the way each user may or may not appreciate them.\n",
    "\n",
    "To clarify this heuristic, we choose a (very) small subset of movies and users as follows.\n",
    "\n",
    "We focus on choosing movies that highlight two easily interpretable factors. One would be the level of action in the movie, and the other that "
   ]
  },
  {
   "cell_type": "markdown",
   "metadata": {},
   "source": []
  },
  {
   "cell_type": "code",
   "execution_count": 109,
   "metadata": {},
   "outputs": [
    {
     "data": {
      "text/plain": [
       "97                              Braveheart (1995)\n",
       "224     Star Wars: Episode IV - A New Hope (1977)\n",
       "257                           Pulp Fiction (1994)\n",
       "277              Shawshank Redemption, The (1994)\n",
       "314                           Forrest Gump (1994)\n",
       "418                          Jurassic Park (1993)\n",
       "510              Silence of the Lambs, The (1991)\n",
       "1939                           Matrix, The (1999)\n",
       "Name: title, dtype: object"
      ]
     },
     "execution_count": 109,
     "metadata": {},
     "output_type": "execute_result"
    }
   ],
   "source": [
    "# select the most rated movies\n",
    "n = 8\n",
    "# compute number of ratings per movie and sort movies accordingly\n",
    "movie_freq = df_ratings['movieId'].value_counts()\n",
    "movie_freq = movie_freq.sort_values(ascending=False)\n",
    "# select the most rated movies\n",
    "top_movies = movie_freq.head(n).index\n",
    "# get movie titles\n",
    "top_movie_titles = df_movies[df_movies['movieId'].isin(top_movies)]['title']\n",
    "top_movie_titles"
   ]
  },
  {
   "cell_type": "code",
   "execution_count": 110,
   "metadata": {},
   "outputs": [
    {
     "data": {
      "text/plain": [
       "[42, 141, 573, 599, 307, 488, 411]"
      ]
     },
     "execution_count": 110,
     "metadata": {},
     "output_type": "execute_result"
    }
   ],
   "source": [
    "user_list = []\n",
    "# select users who rated all top_movies\n",
    "mask = df_ratings['movieId'].isin(top_movies)\n",
    "top_users = df_ratings[mask]['userId'].value_counts()\n",
    "top_users = top_users[top_users == n].index\n",
    "# get user ids\n",
    "top_users\n",
    "\n",
    "# select users who rated all top movies but one\n",
    "but_one_users = df_ratings[mask]['userId'].value_counts()\n",
    "but_one_users = but_one_users[but_one_users == n - 1].index\n",
    "# get user ids\n",
    "but_one_users\n",
    "# pick one at random to remember\n",
    "user_list.append(but_one_users[np.random.choice(but_one_users.shape[0])])\n",
    "user_list.append(but_one_users[np.random.choice(but_one_users.shape[0])])\n",
    "\n",
    "# amongst the first, choose the one with the highest average rating\n",
    "avg_ratings = df_ratings[df_ratings['userId'].isin(top_users)].groupby('userId')['rating'].mean()\n",
    "best_user = avg_ratings.idxmax()\n",
    "# get user id\n",
    "best_user\n",
    "user_list.append(best_user)\n",
    "# get ratings\n",
    "df_ratings[(df_ratings['userId'] == best_user) & mask]\n",
    "\n",
    "# find the two users with the lowest average ratings\n",
    "worst_users = avg_ratings.nsmallest(2).index\n",
    "worst_users\n",
    "user_list.append(worst_users[0])\n",
    "user_list.append(worst_users[1])\n",
    "\n",
    "# get ratings\n",
    "df_ratings[df_ratings['userId'].isin(worst_users) & mask]\n",
    "\n",
    "# finally pick the user with the lowest score in movieId 314\n",
    "worst_movie = 314\n",
    "worst_movie_ratings = df_ratings[df_ratings['movieId'] == worst_movie].groupby('userId')['rating'].mean()\n",
    "worst_user = worst_movie_ratings.idxmin()\n",
    "worst_user\n",
    "user_list.append(worst_user)\n",
    "\n",
    "# and the one with lowest in movieId 224\n",
    "worst_movie = 224\n",
    "worst_movie_ratings = df_ratings[df_ratings['movieId'] == worst_movie].groupby('userId')['rating'].mean()\n",
    "worst_user = worst_movie_ratings.idxmin()\n",
    "worst_user\n",
    "user_list.append(worst_user)\n",
    "\n",
    "user_list\n"
   ]
  },
  {
   "cell_type": "code",
   "execution_count": 111,
   "metadata": {},
   "outputs": [],
   "source": [
    "# filter ratings based on the user_list and top_movies lists\n",
    "filtered_ratings = df_ratings[(df_ratings['userId'].isin(user_list)) & (df_ratings['movieId'].isin(top_movies))]\n",
    "\n",
    "# store in data/toy_example_ratings.csv\n",
    "filtered_ratings.to_csv(\"data/toy_example.csv\")\n"
   ]
  },
  {
   "cell_type": "markdown",
   "metadata": {},
   "source": [
    "# ALS-WR implementation"
   ]
  },
  {
   "cell_type": "code",
   "execution_count": 216,
   "metadata": {},
   "outputs": [],
   "source": [
    "import pandas as pd\n",
    "from scipy.sparse import csr_matrix\n",
    "from scipy.sparse import csc_matrix\n",
    "from scipy.sparse import find\n",
    "\n",
    "class UserItemMatrix():\n",
    "    def __init__(self, ratings_path, movie_path, sparse = True):\n",
    "        self.sparse = sparse\n",
    "        self.ratings_path = ratings_path\n",
    "        self.movie_path = movie_path\n",
    "        if sparse:\n",
    "            # we use csr\n",
    "            self._create_sparse_user_item_matrix(ratings_path)\n",
    "            self.shape = self.user_item_matrix_csr.shape\n",
    "        else:\n",
    "            self._create_dense_user_item_matrix(ratings_path)\n",
    "            self.shape = self.user_item_matrix.shape\n",
    "        # lookup tables for idx's vs id's are needed in the sparse case\n",
    "        self._create_movie_table(movie_path, ratings_path)\n",
    "        self._create_user_table(ratings_path)\n",
    "\n",
    "    def _create_dense_user_item_matrix(self, ratings_path):\n",
    "        df_ratings = pd.read_csv(ratings_path)\n",
    "        # check that userId, movieId and rating columns are present in df_ratings\n",
    "        if not all(col in df_ratings.columns for col in [\"userId\", \"movieId\", \"rating\"]):\n",
    "            raise ValueError(\"userId, movieId, and rating columns are required in df_ratings.\")\n",
    "        # check that userId and movieId are unique\n",
    "        if not df_ratings[['userId', 'movieId']].duplicated().sum() == 0:\n",
    "            raise ValueError(\"userId and movieId should be unique.\")\n",
    "        # create user item matrix\n",
    "        self.user_item_matrix = df_ratings.pivot(index='userId', columns='movieId', values='rating')\n",
    "        # fill missing values with 0\n",
    "        self.user_item_matrix.fillna(0, inplace=True)\n",
    "        # store only values\n",
    "        self.user_item_matrix = self.user_item_matrix.values\n",
    "        return\n",
    "\n",
    "    def _create_sparse_user_item_matrix(self, ratings_path):\n",
    "        df_ratings = pd.read_csv(ratings_path)\n",
    "        # check that userId, movieId and rating columns are present in df_ratings\n",
    "        if not all(col in df_ratings.columns for col in [\"userId\", \"movieId\", \"rating\"]):\n",
    "            raise ValueError(\"userId, movieId, and rating columns are required in df_ratings.\")\n",
    "        # check that userId and movieId are unique\n",
    "        if not df_ratings[['userId', 'movieId']].duplicated().sum() == 0:\n",
    "            raise ValueError(\"userId and movieId should be unique.\")\n",
    "        # create user item matrix, but first we need to reset the index\n",
    "        # substitute userId and movieId with new indexes\n",
    "        df_ratings['userId'] = df_ratings['userId'].astype('category').cat.codes\n",
    "        df_ratings['movieId'] = df_ratings['movieId'].astype('category').cat.codes\n",
    "        self.user_item_matrix_csr = csr_matrix((df_ratings['rating'], (df_ratings['userId'], df_ratings['movieId'])))\n",
    "        self.user_item_matrix_csc = self.user_item_matrix_csr.tocsc()\n",
    "        return\n",
    "    \n",
    "    def _create_movie_table(self, movie_path, ratings_path):\n",
    "        df_movies = pd.read_csv(movie_path)\n",
    "        df_ratings = pd.read_csv(ratings_path)\n",
    "        # check that movieId and title columns are present in df_movies\n",
    "        if not all(col in df_movies.columns for col in [\"movieId\", \"title\"]):\n",
    "            raise ValueError(\"movieId and title columns are required in df_movies.\")\n",
    "        # store an array with numerical index, movieId and title\n",
    "        self.movie_table = df_movies[['movieId', 'title']]\n",
    "        # subset for movies in ratings\n",
    "        self.movie_table = self.movie_table[self.movie_table['movieId'].isin(df_ratings['movieId'].unique())]\n",
    "        # reset indices\n",
    "        self.movie_table.reset_index(inplace=True)\n",
    "        return\n",
    "    \n",
    "    def _create_user_table(self, ratings_path):\n",
    "        df_ratings = pd.read_csv(ratings_path)\n",
    "        self.user_table = df_ratings[['userId']].drop_duplicates().reset_index(drop=True)\n",
    "        return\n",
    "    \n",
    "    def shape(self):\n",
    "        if self.sparse:\n",
    "            return self._get_sparse_shape()\n",
    "        else:\n",
    "            return self._get_dense_shape()\n",
    "        \n",
    "    def _get_dense_shape(self):\n",
    "        return self.user_item_matrix.shape\n",
    "    \n",
    "    def _get_sparse_shape(self):\n",
    "        return self.user_item_matrix_csr.shape\n",
    "    \n",
    "    def get_movie_id(self, movie_idx):\n",
    "        return self.movie_table.iloc[movie_idx]['movieId']\n",
    "        \n",
    "    def get_movie_idx(self, movie_id):\n",
    "        return self.movie_table[self.movie_table['movieId'] == movie_id].index[0]\n",
    "        \n",
    "    def get_movie_name(self, movie_id, from_idx = False):\n",
    "        if from_idx:\n",
    "            return self.movie_table[\"title\"][movie_id]\n",
    "        else:\n",
    "            return self.movie_table[self.movie_table['movieId'] == movie_id]['title'].values[0]\n",
    "\n",
    "    def get_user_id(self, user_idx):\n",
    "        return self.user_table.iloc[user_idx]['userId']\n",
    "    \n",
    "    def get_user_idx(self, user_id):\n",
    "        return self.user_table[self.user_table['userId'] == user_id].index[0]\n",
    "    \n",
    "    def user_ratings(self, user_id, nnz=True):\n",
    "        if self.sparse:\n",
    "            user_idx = self.get_user_idx(user_id)\n",
    "            if nnz:\n",
    "                # return only non zero ratings\n",
    "                _, _, ratings = find(self.user_item_matrix_csr[user_idx])\n",
    "                return ratings\n",
    "            else:\n",
    "                return self.user_item_matrix_csr[user_idx].toarray().reshape(-1)\n",
    "        else:\n",
    "            user_idx = self.get_user_idx(user_id)\n",
    "            if nnz:\n",
    "                return self.user_item_matrix[user_idx][self.user_item_matrix[user_idx] > 0]\n",
    "            else:\n",
    "                return self.user_item_matrix[user_idx]\n",
    "        \n",
    "    def movie_ratings(self, movie_id, nnz=True):\n",
    "        movie_idx = self.get_movie_idx(movie_id)\n",
    "        if self.sparse:\n",
    "            if nnz:\n",
    "                # return only non zero ratings\n",
    "                _, _, ratings = find(self.user_item_matrix_csc[:, movie_idx])\n",
    "                return ratings\n",
    "            else:\n",
    "                return self.user_item_matrix_csc[:, movie_idx].toarray().reshape(-1)\n",
    "        else:\n",
    "            if nnz:\n",
    "                return self.user_item_matrix[self.user_item_matrix[:, movie_idx] > 0, movie_idx]\n",
    "            else:\n",
    "                return self.user_item_matrix[:, movie_idx]\n",
    "        \n",
    "    def get_user_table(self):\n",
    "        return self.user_table\n",
    "    \n",
    "    def get_movie_table(self):\n",
    "        return self.movie_table\n",
    "    \n",
    "    def get_user_item_matrix(self):\n",
    "        # return dataframe\n",
    "        if self.sparse:\n",
    "            uim = pd.DataFrame(self.user_item_matrix_csr.todense())\n",
    "        else:\n",
    "            uim = pd.DataFrame(self.user_item_matrix)\n",
    "        # switch rows index to userId\n",
    "        uim.index = self.user_table['userId']\n",
    "        # switch columns index to movieId\n",
    "        uim.columns = self.movie_table['movieId']\n",
    "        return uim\n",
    "    \n",
    "    def nnz_count(self):\n",
    "        if self.sparse:\n",
    "            return self._sparse_nnz_count()\n",
    "        else:\n",
    "            return self._dense_nnz_count()\n",
    "\n",
    "    def _dense_nnz_count(self):\n",
    "        return np.count_nonzero(self.user_item_matrix)\n",
    "\n",
    "    def _sparse_nnz_count(self):\n",
    "        return self.user_item_matrix_csr.nnz\n",
    "    \n",
    "    def nnz_by_user(self, user_id=None):\n",
    "        if self.sparse:\n",
    "            return self._sparse_nnz_by_user(user_id)\n",
    "        else:\n",
    "            return self._dense_nnz_by_user(user_id)\n",
    "        \n",
    "    def _dense_nnz_by_user(self, user_id=None):\n",
    "        if user_id is None:\n",
    "            return np.count_nonzero(self.user_item_matrix, axis=1)\n",
    "        else:\n",
    "            user_idx = self.get_user_idx(user_id)\n",
    "            return np.count_nonzero(self.user_item_matrix[user_idx])\n",
    "        \n",
    "    def _sparse_nnz_by_user(self, user_id=None):\n",
    "        if user_id is None:\n",
    "            return self.user_item_matrix_csr.getnnz(axis=1)\n",
    "        else:\n",
    "            user_idx = self.get_user_idx(user_id)\n",
    "            return self.user_item_matrix_csr[user_idx].getnnz()\n",
    "    \n",
    "    def nnz_by_movie(self, movie_id=None):\n",
    "        if self.sparse:\n",
    "            return self._sparse_nnz_by_movie(movie_id)\n",
    "        else:\n",
    "            return self._dense_nnz_by_movie(movie_id)\n",
    "        \n",
    "    def _dense_nnz_by_movie(self, movie_id=None):\n",
    "        if movie_id is None:\n",
    "            return np.count_nonzero(self.user_item_matrix, axis=0)\n",
    "        else:\n",
    "            movie_idx = self.get_movie_idx(movie_id)\n",
    "            return np.count_nonzero(self.user_item_matrix[:, movie_idx])\n",
    "    \n",
    "    def _sparse_nnz_by_movie(self, movie_id=None):\n",
    "        if movie_id is None:\n",
    "            return self.user_item_matrix_csc.getnnz(axis=0)\n",
    "        else:\n",
    "            movie_idx = self.get_movie_idx(movie_id)\n",
    "            return self.user_item_matrix_csc[:, movie_idx].getnnz()\n",
    "        \n",
    "    def mean_of_ratings(self, axis=None):\n",
    "        if self.sparse:\n",
    "            return self._sparse_mean_of_ratings(axis)\n",
    "        else:\n",
    "            return self._dense_mean_of_ratings(axis)\n",
    "        \n",
    "    def _dense_mean_of_ratings(self, axis):\n",
    "        if axis is None:\n",
    "            return np.mean(self.user_item_matrix[self.user_item_matrix != 0])\n",
    "        else:\n",
    "            return np.mean(self.user_item_matrix, axis=axis)\n",
    "    \n",
    "    def _sparse_mean_of_ratings(self, axis):\n",
    "        if axis is None:\n",
    "            return self.user_item_matrix_csr.sum() / self.user_item_matrix_csr.nnz\n",
    "        else:\n",
    "            if axis == 0:\n",
    "                tmp = self.user_item_matrix_csc.mean(axis=axis) \n",
    "                return np.array(tmp).reshape(-1)\n",
    "            elif axis == 1:\n",
    "                tmp = self.user_item_matrix_csr.mean(axis=axis) \n",
    "                return np.array(tmp).reshape(-1)\n",
    "            else:\n",
    "                raise ValueError(\"axis should be 0, 1 or None\")\n",
    "\n",
    "    def where_nnz_user(self, user_id):\n",
    "        if self.sparse:\n",
    "            return self._sparse_where_nnz_user(user_id)\n",
    "        else:\n",
    "            return self._dense_where_nnz_user(user_id)\n",
    "        \n",
    "    def _dense_where_nnz_user(self, user_id):\n",
    "        user_idx = self.get_user_idx(user_id)\n",
    "        return self.user_item_matrix[user_idx].nonzero()[0]\n",
    "    \n",
    "    def _sparse_where_nnz_user(self, user_id):\n",
    "        user_idx = self.get_user_idx(user_id)\n",
    "        return self.user_item_matrix_csr[user_idx].indices\n",
    "    \n",
    "    def where_nnz_movie(self, movie_id):\n",
    "        if self.sparse:\n",
    "            return self._sparse_where_nnz_movie(movie_id)\n",
    "        else:\n",
    "            return self._dense_where_nnz_movie(movie_id)\n",
    "        \n",
    "    def _dense_where_nnz_movie(self, movie_id):\n",
    "        movie_idx = self.get_movie_idx(movie_id)\n",
    "        return self.user_item_matrix[:, movie_idx].nonzero()[0]\n",
    "    \n",
    "    def _sparse_where_nnz_movie(self, movie_id):\n",
    "        movie_idx = self.get_movie_idx(movie_id)\n",
    "        return self.user_item_matrix_csc[:, movie_idx].indices\n",
    "    \n",
    "    def get_rating_path(self):\n",
    "        return self.ratings_path\n",
    "    \n",
    "    def get_movie_path(self):\n",
    "        return self.movie_path\n",
    "    \n"
   ]
  },
  {
   "cell_type": "code",
   "execution_count": 113,
   "metadata": {},
   "outputs": [],
   "source": [
    "# import numpy as np\n",
    "\n",
    "# # Paths to the data files\n",
    "# ratings_path = \"data/toy_example.csv\"\n",
    "# movie_path = \"data/movies.csv\"\n",
    "\n",
    "# # check users in the toy example\n",
    "# df_ratings = pd.read_csv(ratings_path)\n",
    "# df_ratings['userId'].unique()\n",
    "# print(df_ratings['userId'].unique())\n",
    "\n",
    "# # Initialize both sparse and dense UserItemMatrix instances\n",
    "# uim_sparse = UserItemMatrix(ratings_path, movie_path, sparse=True)\n",
    "# uim_dense = UserItemMatrix(ratings_path, movie_path, sparse=False)\n",
    "\n",
    "# # Test shape method\n",
    "# print(\"Sparse Shape:\", uim_sparse.shape)\n",
    "# print(\"Dense Shape:\", uim_dense.shape)\n",
    "\n",
    "# # Test get_movie_idx method\n",
    "# movie_id_example = 110  # Assuming movieId 1 exists\n",
    "# print(\"Movie Index (Sparse):\", uim_sparse.get_movie_idx(movie_id_example))\n",
    "# print(\"Movie Index (Dense):\", uim_dense.get_movie_idx(movie_id_example))\n",
    "\n",
    "# # Test get_movie_name method\n",
    "# print(\"Movie Name by ID (Sparse):\", uim_sparse.get_movie_name(movie_id_example, from_idx=False))\n",
    "# print(\"Movie Name by ID (Dense):\", uim_dense.get_movie_name(movie_id_example, from_idx=False))\n",
    "\n",
    "# # Test get_movie_name method from id\n",
    "# movie_idx_example = 0  # Assuming movie index 0 exists\n",
    "# print(\"Movie Name by Index (Sparse):\", uim_sparse.get_movie_name(movie_idx_example, from_idx=True))\n",
    "# print(\"Movie Name by Index (Dense):\", uim_dense.get_movie_name(movie_idx_example, from_idx=True))\n",
    "\n",
    "# # Test get_user_id method\n",
    "# user_idx_example = 0  # Assuming user index 0 exists\n",
    "# print(\"User ID by Index (Sparse):\", uim_sparse.get_user_id(user_idx_example))\n",
    "# print(\"User ID by Index (Dense):\", uim_dense.get_user_id(user_idx_example))\n",
    "\n",
    "# # Test get_user_idx method\n",
    "# user_id_example = 411\n",
    "# print(\"User Index by ID (Sparse):\", uim_sparse.get_user_idx(user_id_example))\n",
    "# print(\"User Index by ID (Dense):\", uim_dense.get_user_idx(user_id_example))\n",
    "\n",
    "# # Test user_ratings method\n",
    "# print(\"User Ratings (Sparse):\", uim_sparse.user_ratings(user_id_example))\n",
    "# print(\"User Ratings (Dense):\", uim_dense.user_ratings(user_id_example))\n",
    "\n",
    "# # Test movie_ratings method\n",
    "# print(\"Movie Ratings (Sparse):\", uim_sparse.movie_ratings(movie_id_example))\n",
    "# print(\"Movie Ratings (Dense):\", uim_dense.movie_ratings(movie_id_example))\n",
    "\n",
    "# # Test get_user_table method\n",
    "# print(\"User Table (Sparse):\\n\", uim_sparse.get_user_table().head())\n",
    "# print(\"User Table (Dense):\\n\", uim_dense.get_user_table().head())\n",
    "\n",
    "# # Test get_movie_table method\n",
    "# print(\"Movie Table (Sparse):\\n\", uim_sparse.get_movie_table().head())\n",
    "# print(\"Movie Table (Dense):\\n\", uim_dense.get_movie_table().head())\n",
    "\n",
    "# # Test get_user_item_matrix method\n",
    "# print(\"User Item Matrix (Sparse):\\n\", uim_sparse.get_user_item_matrix().head())\n",
    "# print(\"User Item Matrix (Dense):\\n\", uim_dense.get_user_item_matrix().head())\n",
    "\n",
    "# # Test nnz_count method\n",
    "# print(\"Non-zero Count (Sparse):\", uim_sparse.nnz_count())\n",
    "# print(\"Non-zero Count (Dense):\", uim_dense.nnz_count())\n",
    "\n",
    "# # Test nnz_by_user method\n",
    "# print(\"Non-zero by User (Sparse):\", uim_sparse.nnz_by_user(user_id_example))\n",
    "# print(\"Non-zero by User (Dense):\", uim_dense.nnz_by_user(user_id_example))\n",
    "\n",
    "# # Test nnz_by_movie method\n",
    "# print(\"Non-zero by Movie (Sparse):\", uim_sparse.nnz_by_movie(movie_id_example))\n",
    "# print(\"Non-zero by Movie (Dense):\", uim_dense.nnz_by_movie(movie_id_example))\n",
    "\n",
    "# # Test mean_of_ratings method\n",
    "# print(\"Mean of Ratings (Sparse):\", uim_sparse.mean_of_ratings())\n",
    "# print(\"Mean of Ratings (Dense):\", uim_dense.mean_of_ratings())\n",
    "\n",
    "# # Test mean_of_ratings method\n",
    "# print(\"Mean of Ratings (Sparse):\", uim_sparse.mean_of_ratings(axis=0))\n",
    "# print(\"Mean of Ratings (Dense):\", uim_dense.mean_of_ratings(axis=0))\n",
    "\n",
    "# # Test mean_of_ratings method\n",
    "# print(\"Mean of Ratings (Sparse):\", uim_sparse.mean_of_ratings(axis=1))\n",
    "# print(\"Mean of Ratings (Dense):\", uim_dense.mean_of_ratings(axis=1))\n",
    "\n",
    "# # Test where_nnz_user method\n",
    "# print(\"Where Non-zero User (Sparse):\", uim_sparse.where_nnz_user(user_id_example))\n",
    "# print(\"Where Non-zero User (Dense):\", uim_dense.where_nnz_user(user_id_example))\n",
    "\n",
    "# # Test where_nnz_movie method\n",
    "# print(\"Where Non-zero Movie (Sparse):\", uim_sparse.where_nnz_movie(movie_id_example))\n",
    "# print(\"Where Non-zero Movie (Dense):\", uim_dense.where_nnz_movie(movie_id_example))"
   ]
  },
  {
   "cell_type": "code",
   "execution_count": 114,
   "metadata": {},
   "outputs": [],
   "source": [
    "# from pympler import asizeof\n",
    "\n",
    "# # paths\n",
    "# ratings_path = \"data/ratings.csv\"\n",
    "# movie_path = \"data/movies.csv\"\n",
    "\n",
    "# # Initialize both sparse and dense UserItemMatrix instances\n",
    "# uim_sparse = UserItemMatrix(ratings_path, movie_path, sparse=True)\n",
    "# uim_dense = UserItemMatrix(ratings_path, movie_path, sparse=False)\n",
    "\n",
    "# # Compute occupied space using pympler\n",
    "# sparse_storage_total = asizeof.asizeof(uim_sparse)\n",
    "# dense_storage_total = asizeof.asizeof(uim_dense)\n",
    "\n",
    "# # Print occupied space\n",
    "# print(f\"Sparse UserItemMatrix total storage: {sparse_storage_total} bytes\")\n",
    "# print(f\"Dense UserItemMatrix total storage: {dense_storage_total} bytes\")\n"
   ]
  },
  {
   "cell_type": "code",
   "execution_count": 217,
   "metadata": {},
   "outputs": [],
   "source": [
    "import numpy as np\n",
    "\n",
    "class ALS_WR():\n",
    "    def __init__(self, user_item_matrix, factor_dim = 100, seed=42):\n",
    "        # check is instance of UserItemMatrix class\n",
    "        if not isinstance(user_item_matrix, UserItemMatrix):\n",
    "            raise ValueError(\"Constructor requires a UserItemMatrix object.\")\n",
    "        \n",
    "        self.user_item_matrix = user_item_matrix\n",
    "        self.n_ratings = self.user_item_matrix.nnz_count()\n",
    "        self.n_users = self.user_item_matrix.shape[0]\n",
    "        self.n_movies = self.user_item_matrix.shape[1]\n",
    "        self.n_factors = factor_dim\n",
    "\n",
    "        np.random.seed(seed)\n",
    "    \n",
    "    def fit(self, n_iter = 10, reg_param=0.1, regularization = \"weighted\", validation_path = None, patience = 2):\n",
    "        \n",
    "        self.reg_param = reg_param\n",
    "        self.n_iter = n_iter \n",
    "        self.validation_path = validation_path\n",
    "        self.patience = patience\n",
    "        self.patience_counter = 0\n",
    "\n",
    "        self._init_regularization(regularization)\n",
    "        self._init_latent_factors()\n",
    "        self._train()\n",
    "\n",
    "    def _train(self):\n",
    "        self.training_loss = []\n",
    "        if self.validation_path is not None:\n",
    "            self.validation_loss = []\n",
    "            self._load_validation_data()\n",
    "        else:\n",
    "            self.validation_loss = None\n",
    "\n",
    "        for i in range(self.n_iter):\n",
    "            self._update_user_factors()\n",
    "            self._update_movie_factors()\n",
    "            self._compute_loss()\n",
    "            if self.validation_path is not None:\n",
    "                self._compute_validation_loss()\n",
    "                if self._early_stopping(i):\n",
    "                    break\n",
    "        return\n",
    "    \n",
    "    def _load_validation_data(self):\n",
    "        self.validation_user_item_matrix = UserItemMatrix(\n",
    "            self.validation_path, self.user_item_matrix.get_movie_path(), sparse=True\n",
    "            )\n",
    "        return\n",
    "    \n",
    "    def _compute_validation_loss(self):\n",
    "        loss = 0\n",
    "        for i in range(self.validation_user_item_matrix.shape[0]):\n",
    "            idx = self.validation_user_item_matrix.where_nnz_user(self.validation_user_item_matrix.get_user_id(i))\n",
    "            V = self.movie_factors[:, idx]\n",
    "            r = self.validation_user_item_matrix.user_ratings(self.validation_user_item_matrix.get_user_id(i))\n",
    "            loss += np.sum((r - self.user_factors[i] @ V) ** 2)\n",
    "        loss = loss / self.validation_user_item_matrix.nnz_count()\n",
    "        loss = np.sqrt(loss)\n",
    "        self.validation_loss.append(loss)\n",
    "        # # regularization\n",
    "        # RU = np.linalg.norm(self.reg_matrix_user @ self.user_factors, ord='fro') ** 2\n",
    "        # RI = np.linalg.norm(self.movie_factors @ self.reg_matrix_item, ord='fro') ** 2\n",
    "        # loss += self.reg_param * (RU + RI)\n",
    "        # self.validation_loss.append(loss)\n",
    "        return\n",
    "    \n",
    "    def _early_stopping(self, i):\n",
    "        if i == 0:\n",
    "            self.best_loss = self.validation_loss[i]\n",
    "        else:\n",
    "            if self.validation_loss[i] < self.best_loss:\n",
    "                self.best_loss = self.validation_loss[i]\n",
    "                self.patience_counter = 0\n",
    "            else:\n",
    "                self.patience_counter += 1\n",
    "                if self.patience_counter == self.patience:\n",
    "                    return True\n",
    "        return False\n",
    "\n",
    "    def _update_user_factors(self):\n",
    "        # update user factors\n",
    "        for i in range(self.n_users):\n",
    "            # get indices of non-zero ratings\n",
    "            idx = self.user_item_matrix.where_nnz_user(self.user_item_matrix.get_user_id(i))\n",
    "            # get movie factors\n",
    "            V = self.movie_factors[:, idx]\n",
    "            # get ratings\n",
    "            r = self.user_item_matrix.user_ratings(self.user_item_matrix.get_user_id(i))\n",
    "            # update user factors\n",
    "            reg_i = self.reg_matrix_user[i,i]\n",
    "            self.user_factors[i] = np.linalg.solve(V @ V.T + self.reg_param * reg_i, V @ r)\n",
    "        return\n",
    "    \n",
    "    def _update_movie_factors(self):\n",
    "        # update movie factors\n",
    "        for j in range(self.n_movies):\n",
    "            # get indices of non-zero ratings\n",
    "            idx = self.user_item_matrix.where_nnz_movie(self.user_item_matrix.get_movie_id(j))\n",
    "            # get user factors\n",
    "            U = self.user_factors[idx]\n",
    "            # get ratings\n",
    "            r = self.user_item_matrix.movie_ratings(self.user_item_matrix.get_movie_id(j))\n",
    "            # update movie factors\n",
    "            reg_j = self.reg_matrix_item[j,j]\n",
    "            self.movie_factors[:, j] = np.linalg.solve(U.T @ U + self.reg_param * reg_j, U.T @ r)\n",
    "        return\n",
    "    \n",
    "    def _compute_loss(self):\n",
    "        # compute loss\n",
    "        loss = 0\n",
    "        for i in range(self.n_users):\n",
    "            idx = self.user_item_matrix.where_nnz_user(self.user_item_matrix.get_user_id(i))\n",
    "            V = self.movie_factors[:, idx]\n",
    "            r = self.user_item_matrix.user_ratings(self.user_item_matrix.get_user_id(i))\n",
    "            loss += np.sum((r - self.user_factors[i] @ V) ** 2)\n",
    "\n",
    "        loss = loss / self.n_ratings\n",
    "        loss = np.sqrt(loss) #empirical RMSE is computed\n",
    "\n",
    "        self.training_loss.append(loss)\n",
    "\n",
    "        # add regularization term\n",
    "        # RU = np.linalg.norm(self.reg_matrix_user @ self.user_factors, ord='fro') ** 2 \n",
    "        # RI = np.linalg.norm(self.movie_factors @ self.reg_matrix_item, ord='fro') ** 2\n",
    "        # loss += self.reg_param * (RU + RI)\n",
    "        # self.training_loss.append(loss)\n",
    "        return\n",
    "\n",
    "    def _init_latent_factors(self):\n",
    "        # initialize user and movie latent factors\n",
    "        self.user_factors = np.random.rand(self.n_users, self.n_factors)\n",
    "        self.movie_factors = np.random.rand(self.n_factors, self.n_movies)\n",
    "        # use average ratings in the first column\n",
    "        self.movie_factors[0, :] = self.user_item_matrix.mean_of_ratings(axis=0)\n",
    "        return\n",
    "\n",
    "    def _init_regularization(self, regularization):\n",
    "        if regularization == \"weighted\":\n",
    "            # compute vector of number of ratings per user\n",
    "            n_ratings_user = self.user_item_matrix.nnz_by_user()\n",
    "            self.reg_matrix_user = np.diag(np.sqrt(n_ratings_user))\n",
    "            # compute vector of number of ratings per movie\n",
    "            n_ratings_movie = self.user_item_matrix.nnz_by_movie()\n",
    "            self.reg_matrix_item = np.diag(np.sqrt(n_ratings_movie))\n",
    "        elif regularization == \"l2\":\n",
    "            self.reg_matrix_user = np.eye(self.n_users)\n",
    "            self.reg_matrix_item = np.eye(self.n_movies)\n",
    "        else:\n",
    "            raise ValueError(\"Regularization must be either 'weighted' or 'l2'.\")\n",
    "        return\n",
    "    \n",
    "    def get_factors(self):\n",
    "        return self.user_factors, self.movie_factors\n",
    "    \n",
    "    def get_loss(self):\n",
    "        return self.training_loss\n",
    "    \n",
    "    def get_validation_loss(self):\n",
    "        return self.validation_loss\n",
    "    \n",
    "    def get_best_loss(self):\n",
    "        return self.best_loss\n",
    "    \n",
    "    def predict_rating(self, user_id, movie_id):\n",
    "        user_idx = self.user_item_matrix.get_user_idx(user_id)\n",
    "        movie_idx = self.user_item_matrix.get_movie_idx(movie_id)\n",
    "        # difference between the global mean and the estimated one\n",
    "        global_mean = self.user_item_matrix.mean_of_ratings()\n",
    "        # compute the estimated rating matrix\n",
    "        R_hat = self.user_factors[user_idx] @ self.movie_factors[:, movie_idx]\n",
    "        # compute the mean of R_hat\n",
    "        R_hat_mean = R_hat.mean()\n",
    "        # compute the estimated rating\n",
    "        return self.user_factors[user_idx] @ self.movie_factors[:, movie_idx] + global_mean - R_hat_mean\n",
    "    \n",
    "    def recommend(self, user_id, n=10, include_seen=False):\n",
    "        user_idx = self.user_item_matrix.get_user_idx(user_id)\n",
    "        ratings = self.user_factors[user_idx] @ self.movie_factors\n",
    "        if include_seen:\n",
    "            top_n = ratings.argsort()[-n:][::-1]\n",
    "        else:\n",
    "            idx = self.user_item_matrix.where_nnz_user(user_id)\n",
    "            ratings[idx] = 0\n",
    "            top_n = ratings.argsort()[-n:][::-1]\n",
    "        # print top n movie names\n",
    "        for i in range(len(top_n)):\n",
    "            print(f\"Recommended {i+1}: {self.user_item_matrix.get_movie_name(top_n[i], from_idx=True)}\")\n",
    "        \n",
    "        # return top n movie ids, not idxs\n",
    "        return self.user_item_matrix.get_movie_id(top_n).values\n",
    "    \n",
    "                  "
   ]
  },
  {
   "cell_type": "code",
   "execution_count": 218,
   "metadata": {},
   "outputs": [
    {
     "name": "stdout",
     "output_type": "stream",
     "text": [
      "Recommended 1: Pulp Fiction (1994)\n",
      "Recommended 2: Star Wars: Episode IV - A New Hope (1977)\n"
     ]
    },
    {
     "data": {
      "text/plain": [
       "array([296, 260], dtype=int64)"
      ]
     },
     "execution_count": 218,
     "metadata": {},
     "output_type": "execute_result"
    }
   ],
   "source": [
    "# test this ALS_WR class on the toy example\n",
    "# paths\n",
    "ratings_path = \"data/toy_example.csv\"\n",
    "movie_path = \"data/movies.csv\"\n",
    "\n",
    "uim_sparse = UserItemMatrix(ratings_path, movie_path, sparse=True)\n",
    "\n",
    "# first, no validation\n",
    "als = ALS_WR(uim_sparse, factor_dim=2)\n",
    "als.fit(n_iter=10, reg_param=0.1, regularization=\"weighted\")\n",
    "# get 2 recommendations for the first user in the user list\n",
    "user_id = uim_sparse.get_user_id(0)\n",
    "# als.recommend(user_id, n=2, include_seen=False)\n",
    "als.recommend(user_id, n=2, include_seen=True)"
   ]
  },
  {
   "cell_type": "code",
   "execution_count": 219,
   "metadata": {},
   "outputs": [
    {
     "name": "stdout",
     "output_type": "stream",
     "text": [
      "Recommended 1: Pulp Fiction (1994)\n",
      "Recommended 2: Matrix, The (1999)\n"
     ]
    },
    {
     "data": {
      "text/plain": [
       "array([ 296, 2571], dtype=int64)"
      ]
     },
     "execution_count": 219,
     "metadata": {},
     "output_type": "execute_result"
    }
   ],
   "source": [
    "# load ratings toy\n",
    "ratings_path = \"data/toy_example.csv\"\n",
    "movie_path = \"data/movies.csv\"\n",
    "\n",
    "# now we pick two ratings from 2 random users and 2 random movies they rated, to put in validation\n",
    "df_ratings = pd.read_csv(ratings_path)\n",
    "\n",
    "# get user ids\n",
    "user_ids = df_ratings['userId'].unique()\n",
    "\n",
    "# get two random user ids\n",
    "np.random.seed(42)\n",
    "np.random.shuffle(user_ids)\n",
    "user_id_1 = user_ids[0]\n",
    "user_id_2 = user_ids[1]\n",
    "\n",
    "# get two random ratings from these users\n",
    "ratings_user_1 = df_ratings[df_ratings['userId'] == user_id_1]\n",
    "ratings_user_2 = df_ratings[df_ratings['userId'] == user_id_2]\n",
    "\n",
    "movie_id_1 = ratings_user_1['movieId'].values[0]\n",
    "movie_id_2 = ratings_user_2['movieId'].values[1]\n",
    "\n",
    "# split df_ratings into training and validation\n",
    "df_validation = df_ratings[(df_ratings['userId'].isin([user_id_1, user_id_2])) & (df_ratings['movieId'].isin([movie_id_1, movie_id_2]))]\n",
    "df_ratings = df_ratings.drop(df_validation.index)\n",
    "\n",
    "\n",
    "# store in data/toy_example_training.csv and data/toy_example_validation.csv\n",
    "df_ratings.to_csv(\"data/toy_example_training.csv\", index=False)\n",
    "df_validation.to_csv(\"data/toy_example_validation.csv\", index=False)\n",
    "\n",
    "# now, with validation\n",
    "uim_sparse = UserItemMatrix(\"data/toy_example_training.csv\", movie_path, sparse=True)\n",
    "als = ALS_WR(uim_sparse, factor_dim=2)\n",
    "als.fit(n_iter=10, reg_param=0.1, regularization=\"weighted\", validation_path=\"data/toy_example_validation.csv\")\n",
    "# get 2 recommendations for the first user in the user list\n",
    "user_id = uim_sparse.get_user_id(0)\n",
    "als.recommend(user_id, n=2, include_seen=True)\n"
   ]
  },
  {
   "cell_type": "code",
   "execution_count": 221,
   "metadata": {},
   "outputs": [
    {
     "data": {
      "image/png": "[encoded data removed]",
      "text/plain": [
       "<Figure size 1000x600 with 1 Axes>"
      ]
     },
     "metadata": {},
     "output_type": "display_data"
    }
   ],
   "source": [
    "# plot validation and train losses\n",
    "plt.figure(figsize=(10, 6))\n",
    "plt.plot(als.get_loss(), label=\"Training Loss\")\n",
    "plt.plot(als.get_validation_loss(), label=\"Validation Loss\")\n",
    "plt.xlabel(\"Iteration\")\n",
    "plt.ylabel(\"RMSE\")\n",
    "plt.title(\"ALS-WR Loss\")\n",
    "plt.legend()\n",
    "plt.show()"
   ]
  },
  {
   "cell_type": "code",
   "execution_count": 224,
   "metadata": {},
   "outputs": [
    {
     "data": {
      "image/png": "[encoded data removed]",
      "text/plain": [
       "<Figure size 1000x600 with 1 Axes>"
      ]
     },
     "metadata": {},
     "output_type": "display_data"
    }
   ],
   "source": [
    "# plot in a bidimensional plane the latent factors of the users and the movies\n",
    "user_factors, movie_factors = als.get_factors()\n",
    "# center them\n",
    "user_factors = user_factors - user_factors.mean(axis=0)\n",
    "movie_factors = movie_factors - movie_factors.mean(axis=1).reshape(-1, 1)\n",
    "plt.figure(figsize=(10, 6))\n",
    "plt.scatter(user_factors[:, 0], user_factors[:, 1], label=\"Users\")\n",
    "plt.scatter(movie_factors[0, :], movie_factors[1, :], label=\"Movies\")\n",
    "# add to each movie the name\n",
    "for i in range(movie_factors.shape[1]):\n",
    "    plt.text(movie_factors[0, i], movie_factors[1, i], uim_sparse.get_movie_name(uim_sparse.get_movie_id(i), from_idx=False))\n",
    "# add to each user the id\n",
    "for i in range(user_factors.shape[0]):\n",
    "    plt.text(user_factors[i, 0], user_factors[i, 1], uim_sparse.get_user_id(i))\n",
    "plt.xlabel(\"Factor 1\")\n",
    "plt.ylabel(\"Factor 2\")\n",
    "plt.title(\"User and Movie Latent Factors\")\n",
    "plt.legend()\n",
    "plt.show()"
   ]
  },
  {
   "cell_type": "code",
   "execution_count": 227,
   "metadata": {},
   "outputs": [
    {
     "data": {
      "image/png": "[encoded data removed]",
      "text/plain": [
       "<Figure size 1000x600 with 1 Axes>"
      ]
     },
     "metadata": {},
     "output_type": "display_data"
    }
   ],
   "source": [
    "# plot trainng loss\n",
    "plt.figure(figsize=(10, 6))\n",
    "plt.plot(als.get_loss(), label='Training Loss')\n",
    "plt.xlabel('Iteration')\n",
    "plt.ylabel('RMSE')\n",
    "plt.title('Training Loss')\n",
    "plt.legend()\n",
    "plt.show()"
   ]
  },
  {
   "cell_type": "code",
   "execution_count": null,
   "metadata": {},
   "outputs": [],
   "source": []
  },
  {
   "cell_type": "code",
   "execution_count": 3,
   "metadata": {},
   "outputs": [
    {
     "name": "stdout",
     "output_type": "stream",
     "text": [
      "Computing the msd similarity matrix...\n",
      "Done computing similarity matrix.\n",
      "RMSE: 0.9254\n"
     ]
    },
    {
     "data": {
      "text/plain": [
       "0.9254039704112041"
      ]
     },
     "execution_count": 3,
     "metadata": {},
     "output_type": "execute_result"
    }
   ],
   "source": [
    "from surprise import KNNBasic\n",
    "from surprise import Dataset\n",
    "from surprise import accuracy\n",
    "from surprise.model_selection import train_test_split\n",
    "\n",
    "# Load the movielens-100k dataset (download it if needed).\n",
    "data = Dataset.load_builtin('ml-1m')\n",
    "\n",
    "# Split the dataset into train and test\n",
    "trainset, testset = train_test_split(data, test_size=.25)\n",
    "\n",
    "# Use k-NN algorithm\n",
    "algo = KNNBasic()\n",
    "\n",
    "# Train the algorithm on the trainset\n",
    "algo.fit(trainset)\n",
    "\n",
    "# Predict ratings for the testset\n",
    "predictions = algo.test(testset)\n",
    "\n",
    "# Then compute RMSE\n",
    "accuracy.rmse(predictions)"
   ]
  },
  {
   "cell_type": "markdown",
   "metadata": {},
   "source": [
    "# ALS with PySpark"
   ]
  },
  {
   "cell_type": "code",
   "execution_count": 1,
   "metadata": {},
   "outputs": [],
   "source": [
    "from pyspark.sql import SparkSession\n",
    "from pyspark.ml.evaluation import RegressionEvaluator\n",
    "from pyspark.ml.recommendation import ALS\n",
    "\n",
    "# Create a Spark session\n",
    "spark = SparkSession.builder.appName('recommender').getOrCreate()\n",
    "\n",
    "# Load the data\n",
    "data = spark.read.csv('data/ratings.csv', inferSchema=True, header=True)\n",
    "\n",
    "# Split the data\n",
    "(training, test) = data.randomSplit([0.8, 0.2])\n",
    "\n",
    "# Build the recommendation model using ALS on the training data\n",
    "als = ALS(maxIter=10, userCol='userId', itemCol='movieId', ratingCol='rating')\n",
    "\n",
    "# perform grid search\n",
    "from pyspark.ml.tuning import ParamGridBuilder, CrossValidator\n",
    "\n",
    "# We use a ParamGridBuilder to construct a grid of parameters to search over.\n",
    "# TrainValidationSplit will try all combinations of values and determine best model using\n",
    "# the evaluator.\n",
    "param_grid = ParamGridBuilder() \\\n",
    "    .addGrid(als.rank, [50, 100, 150, 200]) \\\n",
    "    .addGrid(als.regParam, [.01, .05, .1]) \\\n",
    "    .build()\n",
    "\n",
    "# Define evaluator as RMSE\n",
    "evaluator = RegressionEvaluator(metricName='rmse', labelCol='rating', predictionCol='prediction')\n",
    "\n",
    "# Build CrossValidator\n",
    "cv = CrossValidator(estimator=als, estimatorParamMaps=param_grid, evaluator=evaluator, numFolds=5)\n",
    "\n",
    "# Fit ALS model to training data\n",
    "model = cv.fit(training)\n",
    "\n",
    "# Extract best model from the tuning exercise using ParamGridBuilder\n",
    "best_model = model.bestModel\n",
    "\n",
    "# Generate predictions and evaluate using RMSE\n",
    "predictions = best_model.transform(test)\n",
    "rmse = evaluator.evaluate(predictions)\n",
    "\n",
    "# Print evaluation metrics and model parameters\n",
    "print(\"RMSE = \" + str(rmse))\n",
    "print(\"**Best Model**\")\n",
    "print(\" Rank:\", best_model.rank)\n",
    "print(\" MaxIter:\", best_model._java_obj.parent().getMaxIter())\n",
    "print(\" RegParam:\", best_model._java_obj.parent().getRegParam())\n",
    "\n",
    "# make top_n recommendations for a user\n",
    "n = 10\n",
    "user_id = 1\n",
    "# get the user's movie ratings\n",
    "user_ratings = data.filter(data['userId'] == user_id)  \n",
    "# get the movies the user has rated\n",
    "rated_movies = user_ratings.select('movieId', 'userId')\n",
    "# get the movies the user has not rated\n",
    "unrated_movies = data.select('movieId').subtract(rated_movies)\n",
    "# rename the column to userId\n",
    "unrated_movies = unrated_movies.withColumn('userId', lit(int(user_id)))\n",
    "# generate predictions\n",
    "predictions = best_model.transform(unrated_movies)\n",
    "# get the top n recommendations\n",
    "top_n = predictions.orderBy('prediction', ascending=False).limit(n)\n",
    "# get the movie titles\n",
    "top_n_titles = top_n.join(movies, 'movieId', 'inner').select('title')\n",
    "# show the recommendations\n",
    "top_n_titles.show()\n",
    "\n",
    "# Stop the Spark session\n",
    "spark.stop()"
   ]
  },
  {
   "cell_type": "markdown",
   "metadata": {},
   "source": [
    "SVD++ explicit"
   ]
  },
  {
   "cell_type": "code",
   "execution_count": null,
   "metadata": {},
   "outputs": [],
   "source": [
    "import numpy as np\n",
    "\n",
    "class SVDpp:\n",
    "    def __init__(self, n_epochs=20, n_factors=10, lr=0.005, reg=0.02):\n",
    "        self.n_epochs = n_epochs\n",
    "        self.n_factors = n_factors\n",
    "        self.lr = lr\n",
    "        self.reg = reg\n",
    "\n",
    "    def fit(self, R):\n",
    "        self.n_users, self.n_items = R.shape\n",
    "        self.global_mean = np.mean(R[np.where(R != 0)])\n",
    "        self.P = np.random.normal(scale=1./self.n_factors, size=(self.n_users, self.n_factors))\n",
    "        self.Q = np.random.normal(scale=1./self.n_factors, size=(self.n_items, self.n_factors))\n",
    "        self.Y = np.random.normal(scale=1./self.n_factors, size=(self.n_items, self.n_factors))\n",
    "        self.b_u = np.zeros(self.n_users)\n",
    "        self.b_i = np.zeros(self.n_items)\n",
    "\n",
    "        self.R = R\n",
    "\n",
    "        for _ in range(self.n_epochs):\n",
    "            for i in range(self.n_users):\n",
    "                rated_items = np.where(R[i, :] != 0)[0]\n",
    "                sqrt_n_ui = np.sqrt(len(rated_items))\n",
    "                for j in rated_items:\n",
    "                    err = R[i, j] - self.predict(i, j)\n",
    "                    self.b_u[i] += self.lr * (err - self.reg * self.b_u[i])\n",
    "                    self.b_i[j] += self.lr * (err - self.reg * self.b_i[j])\n",
    "                    self.P[i, :] += self.lr * (err * self.Q[j, :] - self.reg * self.P[i,:])\n",
    "                    self.Q[j, :] += self.lr * (err * (self.P[i, :] + (sqrt_n_ui * self.Y[rated_items, :].sum(axis=0))) - self.reg * self.Q[j,:])\n",
    "                    self.Y[j, :] += self.lr * (err * self.Q[j, :] / sqrt_n_ui - self.reg * self.Y[j,:])\n",
    "\n",
    "    def predict(self, i, j):\n",
    "        if self.R[i, j] > 0:\n",
    "            rated_items = np.where(self.R[i, :] != 0)[0]\n",
    "            sqrt_n_ui = np.sqrt(len(rated_items))\n",
    "            return self.global_mean + self.b_u[i] + self.b_i[j] + np.dot(self.P[i, :] + sqrt_n_ui * self.Y[rated_items, :].sum(axis=0), self.Q[j, :])\n",
    "        return self.global_mean + self.b_u[i] + self.b_i[j] + np.dot(self.P[i, :], self.Q[j, :])\n",
    "\n",
    "# Assume R is your ratings matrix\n",
    "R = np.array([[5, 3, 0, 1], [4, 0, 0, 1], [1, 1, 0, 5], [1, 0, 0, 4], [0, 1, 5, 4]])\n",
    "model = SVDpp()\n",
    "model.fit(R)\n",
    "print(model.predict(0, 2))  # Predict the rating of user 0 for item 2"
   ]
  },
  {
   "cell_type": "code",
   "execution_count": 9,
   "metadata": {},
   "outputs": [
    {
     "name": "stdout",
     "output_type": "stream",
     "text": [
      "[[ 5.    2.99 -0.    1.  ]\n",
      " [ 4.    0.   -0.    1.  ]\n",
      " [ 1.    1.    0.    5.  ]\n",
      " [ 1.    0.    0.    4.  ]\n",
      " [-0.01  1.    4.99  3.99]]\n"
     ]
    }
   ],
   "source": [
    "# ALS explicit\n",
    "import numpy as np\n",
    "\n",
    "class ALS:\n",
    "    def __init__(self, n_factors=10, n_iterations=20, reg=0.01):\n",
    "        self.n_factors = n_factors\n",
    "        self.n_iterations = n_iterations\n",
    "        self.reg = reg\n",
    "\n",
    "    def fit(self, R):\n",
    "        self.n_users, self.n_items = R.shape\n",
    "        self.user_factors = np.random.random((self.n_users, self.n_factors))\n",
    "        self.item_factors = np.random.random((self.n_items, self.n_factors))\n",
    "\n",
    "        for _ in range(self.n_iterations):\n",
    "            for u in range(self.n_users):\n",
    "                self.user_factors[u] = self.solve(R[u, :], self.item_factors, self.reg, self.n_factors)\n",
    "            for i in range(self.n_items):\n",
    "                self.item_factors[i] = self.solve(R[:, i], self.user_factors, self.reg, self.n_factors)\n",
    "\n",
    "    def solve(self, v, U, reg, n_factors):\n",
    "        A = np.dot(U.T, U) + np.eye(n_factors) * reg\n",
    "        b = np.dot(U.T, v)\n",
    "        return np.linalg.solve(A, b)\n",
    "\n",
    "    def predict(self):\n",
    "        return self.user_factors.dot(self.item_factors.T)\n",
    "\n",
    "# Assume R is your ratings matrix\n",
    "R = np.array([[5, 3, 0, 1], [4, 0, 0, 1], [1, 1, 0, 5], [1, 0, 0, 4], [0, 1, 5, 4]])\n",
    "model = ALS()\n",
    "model.fit(R)\n",
    "print(np.round(model.predict(), decimals=2))  # Predict the entire matrix"
   ]
  }
 ],
 "metadata": {
  "kernelspec": {
   "display_name": "base",
   "language": "python",
   "name": "python3"
  },
  "language_info": {
   "codemirror_mode": {
    "name": "ipython",
    "version": 3
   },
   "file_extension": ".py",
   "mimetype": "text/x-python",
   "name": "python",
   "nbconvert_exporter": "python",
   "pygments_lexer": "ipython3",
   "version": "3.11.2"
  }
 },
 "nbformat": 4,
 "nbformat_minor": 2
}
